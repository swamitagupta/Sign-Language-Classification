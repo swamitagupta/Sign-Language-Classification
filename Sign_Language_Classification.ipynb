{
  "nbformat": 4,
  "nbformat_minor": 0,
  "metadata": {
    "colab": {
      "name": "Sign Language Classification.ipynb",
      "provenance": []
    },
    "kernelspec": {
      "name": "python3",
      "display_name": "Python 3"
    }
  },
  "cells": [
    {
      "cell_type": "code",
      "metadata": {
        "id": "EqnDrpL8abbN"
      },
      "source": [
        "import pandas as pd\n",
        "import numpy as np\n",
        "import tensorflow as tf\n",
        "from tensorflow import keras"
      ],
      "execution_count": 119,
      "outputs": []
    },
    {
      "cell_type": "code",
      "metadata": {
        "id": "tmwOTpY5e9Io"
      },
      "source": [
        "df = pd.read_csv('sign_mnist_train.csv')\n",
        "test_df = pd.read_csv('sign_mnist_test.csv')"
      ],
      "execution_count": 120,
      "outputs": []
    },
    {
      "cell_type": "code",
      "metadata": {
        "id": "mmOb5YUTgSR8"
      },
      "source": [
        "y_train = df[\"label\"]\n",
        "y_train = np.array(y_train) \n",
        "y_train = np.reshape(y_train, (y_train.shape[0], 1))"
      ],
      "execution_count": 121,
      "outputs": []
    },
    {
      "cell_type": "code",
      "metadata": {
        "id": "tpLUsJLzhI6T"
      },
      "source": [
        "x_train = np.array(df.iloc[:, 1:])\n",
        "x_train = x_train/255.0\n",
        "x = []\n",
        "for i in range(x_train.shape[0]):\n",
        "  a = np.reshape(x_train[i], (28,28,1))\n",
        "  x.append(a)"
      ],
      "execution_count": 122,
      "outputs": []
    },
    {
      "cell_type": "code",
      "metadata": {
        "id": "Vy5YLM4Pp80R",
        "outputId": "29d6494b-0acb-4807-850b-da2792bdbd39",
        "colab": {
          "base_uri": "https://localhost:8080/",
          "height": 34
        }
      },
      "source": [
        "x = np.array(x)\n",
        "x.shape"
      ],
      "execution_count": 123,
      "outputs": [
        {
          "output_type": "execute_result",
          "data": {
            "text/plain": [
              "(27455, 28, 28, 1)"
            ]
          },
          "metadata": {
            "tags": []
          },
          "execution_count": 123
        }
      ]
    },
    {
      "cell_type": "code",
      "metadata": {
        "id": "D5wdV0emqvXa"
      },
      "source": [
        "class myCallback (tf.keras.callbacks.Callback):\n",
        "  def on_epoch_end(self,epoch,logs={}):\n",
        "    if(logs.get('acc')>=1):\n",
        "      self.model.stop_training = True\n",
        "\n",
        "callbacks = myCallback()"
      ],
      "execution_count": 124,
      "outputs": []
    },
    {
      "cell_type": "code",
      "metadata": {
        "id": "FPx45yi3lEx-"
      },
      "source": [
        "model = keras.Sequential([\n",
        "                          #keras.layers.Conv2D(64, (3,3), input_shape=(28,28,1), activation='relu'),\n",
        "                          #keras.layers.MaxPooling2D(2,2),\n",
        "                          keras.layers.Flatten(),\n",
        "                          keras.layers.Dense(64, activation='relu'),\n",
        "                          keras.layers.Dense(128, activation='relu'),\n",
        "                          keras.layers.Dense(512, activation='relu'),\n",
        "                          keras.layers.Dense(26, activation='softmax')\n",
        "])"
      ],
      "execution_count": 142,
      "outputs": []
    },
    {
      "cell_type": "code",
      "metadata": {
        "id": "YBe9ghDYmEj7"
      },
      "source": [
        "model.compile(optimizer=tf.optimizers.Adam(), loss='sparse_categorical_crossentropy', metrics=['acc'])"
      ],
      "execution_count": 143,
      "outputs": []
    },
    {
      "cell_type": "code",
      "metadata": {
        "id": "BCMlg5tbmGfr",
        "outputId": "b5ca7293-3a67-4665-990d-2a2bbe22a7ef",
        "colab": {
          "base_uri": "https://localhost:8080/",
          "height": 374
        }
      },
      "source": [
        "model.fit(x, y_train, epochs=10, callbacks=[callbacks])"
      ],
      "execution_count": 144,
      "outputs": [
        {
          "output_type": "stream",
          "text": [
            "Epoch 1/10\n",
            "858/858 [==============================] - 3s 3ms/step - loss: 1.6259 - acc: 0.4718\n",
            "Epoch 2/10\n",
            "858/858 [==============================] - 3s 3ms/step - loss: 0.5841 - acc: 0.7996\n",
            "Epoch 3/10\n",
            "858/858 [==============================] - 3s 3ms/step - loss: 0.2862 - acc: 0.9026\n",
            "Epoch 4/10\n",
            "858/858 [==============================] - 3s 3ms/step - loss: 0.1661 - acc: 0.9474\n",
            "Epoch 5/10\n",
            "858/858 [==============================] - 3s 3ms/step - loss: 0.0734 - acc: 0.9788\n",
            "Epoch 6/10\n",
            "858/858 [==============================] - 3s 3ms/step - loss: 0.0816 - acc: 0.9753\n",
            "Epoch 7/10\n",
            "858/858 [==============================] - 3s 3ms/step - loss: 0.0773 - acc: 0.9757\n",
            "Epoch 8/10\n",
            "858/858 [==============================] - 3s 3ms/step - loss: 0.1006 - acc: 0.9688\n",
            "Epoch 9/10\n",
            "858/858 [==============================] - 3s 3ms/step - loss: 0.0062 - acc: 0.9989\n",
            "Epoch 10/10\n",
            "858/858 [==============================] - 3s 3ms/step - loss: 0.0735 - acc: 0.9789\n"
          ],
          "name": "stdout"
        },
        {
          "output_type": "execute_result",
          "data": {
            "text/plain": [
              "<tensorflow.python.keras.callbacks.History at 0x7f7d14c4b588>"
            ]
          },
          "metadata": {
            "tags": []
          },
          "execution_count": 144
        }
      ]
    },
    {
      "cell_type": "code",
      "metadata": {
        "id": "v7IoifjvnkK3"
      },
      "source": [
        "x_test = np.array(test_df.iloc[:, 1:])\n",
        "x_test = x_test/255.0\n",
        "x_t = []\n",
        "for i in range(x_test.shape[0]):\n",
        "  a = np.reshape(x_test[i], (28,28,1))\n",
        "  x_t.append(a)\n",
        "x_test = np.array(x_t)"
      ],
      "execution_count": 129,
      "outputs": []
    },
    {
      "cell_type": "code",
      "metadata": {
        "id": "Xc7BKS6toMWm"
      },
      "source": [
        "y_test = test_df[\"label\"]\n",
        "y_test = np.array(y_test) \n",
        "y_test = np.reshape(y_test, (y_test.shape[0], 1))"
      ],
      "execution_count": 130,
      "outputs": []
    },
    {
      "cell_type": "code",
      "metadata": {
        "id": "OIq8_0yZoWWD",
        "outputId": "787d1ada-5a76-4c29-dd9a-b50bfe74d183",
        "colab": {
          "base_uri": "https://localhost:8080/",
          "height": 51
        }
      },
      "source": [
        "model.evaluate(x_test, y_test)"
      ],
      "execution_count": 145,
      "outputs": [
        {
          "output_type": "stream",
          "text": [
            "225/225 [==============================] - 0s 1ms/step - loss: 0.8317 - acc: 0.8387\n"
          ],
          "name": "stdout"
        },
        {
          "output_type": "execute_result",
          "data": {
            "text/plain": [
              "[0.8316888213157654, 0.8386781811714172]"
            ]
          },
          "metadata": {
            "tags": []
          },
          "execution_count": 145
        }
      ]
    },
    {
      "cell_type": "code",
      "metadata": {
        "id": "Z9TzseoOobhS"
      },
      "source": [
        ""
      ],
      "execution_count": null,
      "outputs": []
    }
  ]
}